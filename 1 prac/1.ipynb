{
 "cells": [
  {
   "cell_type": "code",
   "execution_count": null,
   "metadata": {},
   "outputs": [],
   "source": []
  },
  {
   "cell_type": "code",
   "execution_count": 1,
   "metadata": {},
   "outputs": [],
   "source": [
    "db = {\n",
    "    'Iron': {\n",
    "        \"cost\": 100,\n",
    "        \"rate\": 3,\n",
    "        \"fstec\": True,\n",
    "        \"functions\": [\"\",\"firewall\",\"os\",\"siem\",\"vpn\"],\n",
    "    },\n",
    "    'Alluminium': {\n",
    "        \"cost\": 200,\n",
    "        \"rate\": 7,\n",
    "        \"fstec\": False,\n",
    "        \"functions\": [\"antivirus\",\"firewall\",\"os\",\"\",\"vpn\"],\n",
    "    },\n",
    "    'Coal': {\n",
    "        \"cost\": 300,\n",
    "        \"rate\": 6,\n",
    "        \"fstec\": True,\n",
    "        \"functions\": [\"\",\"firewall\",\"\",\"siem\",\"vpn\"],\n",
    "    },\n",
    "    'Gold': {\n",
    "        \"cost\": 400,\n",
    "        \"rate\": 5,\n",
    "        \"fstec\": True,\n",
    "        \"functions\": [\"\",\"\",\"os\",\"siem\",\"vpn\"],\n",
    "    },\n",
    "    'Diamond': {\n",
    "        \"cost\": 1000,\n",
    "        \"rate\": 10,\n",
    "        \"fstec\": True,\n",
    "        \"functions\": [\"antivirus\",\"\",\"os\",\"siem\",\"vpn\"],\n",
    "    }\n",
    "}"
   ]
  },
  {
   "cell_type": "code",
   "execution_count": 2,
   "metadata": {},
   "outputs": [],
   "source": [
    "def cost800(db):\n",
    "    arr = []\n",
    "    for el in db:\n",
    "        if db[el]['cost'] < 800:\n",
    "            arr.append(el)\n",
    "    return arr\n",
    "\n",
    "def milRate4(db):\n",
    "    arr = []\n",
    "    for el in db:\n",
    "        if db[el]['fstec'] == True and db[el]['rate'] > 4:\n",
    "            arr.append(el)\n",
    "    return arr\n",
    "\n",
    "def OS(db):\n",
    "    arr = []\n",
    "    for el in db:\n",
    "        if 'os' in db[el]['functions']:\n",
    "            arr.append(el)\n",
    "    return arr\n",
    "    \n",
    "def noav(db):\n",
    "    arr = []\n",
    "    for el in db:\n",
    "        if not 'antivirus' in db[el]['functions']:\n",
    "            arr.append(el)\n",
    "    return arr"
   ]
  },
  {
   "cell_type": "code",
   "execution_count": 3,
   "metadata": {},
   "outputs": [
    {
     "name": "stdout",
     "output_type": "stream",
     "text": [
      "['Coal', 'Gold', 'Diamond']\n",
      "['Iron', 'Alluminium', 'Gold', 'Diamond']\n",
      "['Iron', 'Coal', 'Gold']\n",
      "['Iron', 'Alluminium', 'Coal', 'Gold']\n"
     ]
    }
   ],
   "source": [
    "print(milRate4(db))\n",
    "print(OS(db))\n",
    "print(noav(db))\n",
    "print(cost800(db))\n"
   ]
  }
 ],
 "metadata": {
  "kernelspec": {
   "display_name": "Python 3.10.7 64-bit (microsoft store)",
   "language": "python",
   "name": "python3"
  },
  "language_info": {
   "codemirror_mode": {
    "name": "ipython",
    "version": 3
   },
   "file_extension": ".py",
   "mimetype": "text/x-python",
   "name": "python",
   "nbconvert_exporter": "python",
   "pygments_lexer": "ipython3",
   "version": "3.10.7"
  },
  "orig_nbformat": 4,
  "vscode": {
   "interpreter": {
    "hash": "c0268c06082bbe3cc38d55639c546f63482eb23e2c38516956ccd1f3a27bf008"
   }
  }
 },
 "nbformat": 4,
 "nbformat_minor": 2
}
