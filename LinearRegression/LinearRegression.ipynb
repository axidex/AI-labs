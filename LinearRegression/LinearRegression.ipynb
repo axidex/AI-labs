{
 "cells": [
  {
   "cell_type": "code",
   "execution_count": 2,
   "metadata": {},
   "outputs": [],
   "source": [
    "from tokenize import PlainToken\n",
    "import numpy as np\n",
    "import random\n",
    "import matplotlib.pyplot as plt\n",
    "from sklearn.model_selection import train_test_split\n",
    "from sklearn.linear_model import LinearRegression\n",
    "import pandas as pd"
   ]
  },
  {
   "cell_type": "code",
   "execution_count": 3,
   "metadata": {},
   "outputs": [
    {
     "name": "stdout",
     "output_type": "stream",
     "text": [
      "50\n",
      "50\n"
     ]
    }
   ],
   "source": [
    "y=[0.0,0.6122448979591837,1.2244897959183674,1.836734693877551,2.4489795918367347,3.0612244897959187,3.673469387755102,4.285714285714286,4.8979591836734695,5.510204081632653,6.122448979591837,6.73469387755102,7.346938775510204,7.959183673469388,8.571428571428571,9.183673469387756,9.795918367346939,10.408163265306122,11.020408163265307,11.63265306122449,12.244897959183675,12.857142857142858,13.46938775510204,14.081632653061225,14.693877551020408,15.306122448979592,15.918367346938776,16.53061224489796,17.142857142857142,17.755102040816325,18.367346938775512,18.979591836734695,19.591836734693878,20.20408163265306,20.816326530612244,21.42857142857143,22.040816326530614,22.653061224489797,23.26530612244898,23.877551020408163,24.48979591836735,25.102040816326532,25.714285714285715,26.3265306122449,26.93877551020408,27.551020408163264,28.16326530612245,28.775510204081634,29.387755102040817,30.0]\n",
    "x=[103.09532681036755,60.64960432687138,82.79483746232057,62.647110840536286,124.05925619404826,96.43828219023422,163.4763969980349,158.19304994371362,154.0288700910815,119.320495883008,130.75920827520008,155.8336870549172,172.12476348195835,142.97011987387154,152.8734390643684,116.54061936340476,121.22974679291919,138.24746425964807,109.7518957346999,177.3790353912938,127.14932042111192,110.0352943908648,196.1654513274892,146.92854909407683,197.06721054750625,149.29111065595092,171.9478101455099,198.4350773302673,119.34142026876306,204.6535999568399,160.1437312015482,203.88942920668063,152.89914630499246,216.73415864330298,142.58316573321767,220.10106549068115,187.0941705779788,139.56514227070937,126.41483140859235,201.84727785750437,162.4312786891109,183.83963018644098,161.8534384420994,138.51260296265937,190.2517740261142,179.13481699510126,223.59552589940637,234.7503986235846,153.7276977311854,155.34302733656108]\n",
    "n=len(y)\n",
    "\n",
    "print(len(x))\n",
    "print(len(y))"
   ]
  },
  {
   "cell_type": "code",
   "execution_count": 4,
   "metadata": {},
   "outputs": [
    {
     "data": {
      "text/plain": [
       "(0.0, 100.0)"
      ]
     },
     "execution_count": 4,
     "metadata": {},
     "output_type": "execute_result"
    },
    {
     "data": {
      "image/png": "[encoded data removed]",
      "text/plain": [
       "<Figure size 720x432 with 1 Axes>"
      ]
     },
     "metadata": {
      "needs_background": "light"
     },
     "output_type": "display_data"
    }
   ],
   "source": [
    "plt.figure(figsize=(10,6))\n",
    "plt.scatter(x, y, alpha=1)\n",
    "plt.xlabel('Объем трафика')\n",
    "plt.ylabel('Загруженность сети')\n",
    "plt.ylim(0, 100)"
   ]
  },
  {
   "cell_type": "code",
   "execution_count": 5,
   "metadata": {},
   "outputs": [
    {
     "data": {
      "text/html": [
       "<style>#sk-container-id-1 {color: black;background-color: white;}#sk-container-id-1 pre{padding: 0;}#sk-container-id-1 div.sk-toggleable {background-color: white;}#sk-container-id-1 label.sk-toggleable__label {cursor: pointer;display: block;width: 100%;margin-bottom: 0;padding: 0.3em;box-sizing: border-box;text-align: center;}#sk-container-id-1 label.sk-toggleable__label-arrow:before {content: \"▸\";float: left;margin-right: 0.25em;color: #696969;}#sk-container-id-1 label.sk-toggleable__label-arrow:hover:before {color: black;}#sk-container-id-1 div.sk-estimator:hover label.sk-toggleable__label-arrow:before {color: black;}#sk-container-id-1 div.sk-toggleable__content {max-height: 0;max-width: 0;overflow: hidden;text-align: left;background-color: #f0f8ff;}#sk-container-id-1 div.sk-toggleable__content pre {margin: 0.2em;color: black;border-radius: 0.25em;background-color: #f0f8ff;}#sk-container-id-1 input.sk-toggleable__control:checked~div.sk-toggleable__content {max-height: 200px;max-width: 100%;overflow: auto;}#sk-container-id-1 input.sk-toggleable__control:checked~label.sk-toggleable__label-arrow:before {content: \"▾\";}#sk-container-id-1 div.sk-estimator input.sk-toggleable__control:checked~label.sk-toggleable__label {background-color: #d4ebff;}#sk-container-id-1 div.sk-label input.sk-toggleable__control:checked~label.sk-toggleable__label {background-color: #d4ebff;}#sk-container-id-1 input.sk-hidden--visually {border: 0;clip: rect(1px 1px 1px 1px);clip: rect(1px, 1px, 1px, 1px);height: 1px;margin: -1px;overflow: hidden;padding: 0;position: absolute;width: 1px;}#sk-container-id-1 div.sk-estimator {font-family: monospace;background-color: #f0f8ff;border: 1px dotted black;border-radius: 0.25em;box-sizing: border-box;margin-bottom: 0.5em;}#sk-container-id-1 div.sk-estimator:hover {background-color: #d4ebff;}#sk-container-id-1 div.sk-parallel-item::after {content: \"\";width: 100%;border-bottom: 1px solid gray;flex-grow: 1;}#sk-container-id-1 div.sk-label:hover label.sk-toggleable__label {background-color: #d4ebff;}#sk-container-id-1 div.sk-serial::before {content: \"\";position: absolute;border-left: 1px solid gray;box-sizing: border-box;top: 0;bottom: 0;left: 50%;z-index: 0;}#sk-container-id-1 div.sk-serial {display: flex;flex-direction: column;align-items: center;background-color: white;padding-right: 0.2em;padding-left: 0.2em;position: relative;}#sk-container-id-1 div.sk-item {position: relative;z-index: 1;}#sk-container-id-1 div.sk-parallel {display: flex;align-items: stretch;justify-content: center;background-color: white;position: relative;}#sk-container-id-1 div.sk-item::before, #sk-container-id-1 div.sk-parallel-item::before {content: \"\";position: absolute;border-left: 1px solid gray;box-sizing: border-box;top: 0;bottom: 0;left: 50%;z-index: -1;}#sk-container-id-1 div.sk-parallel-item {display: flex;flex-direction: column;z-index: 1;position: relative;background-color: white;}#sk-container-id-1 div.sk-parallel-item:first-child::after {align-self: flex-end;width: 50%;}#sk-container-id-1 div.sk-parallel-item:last-child::after {align-self: flex-start;width: 50%;}#sk-container-id-1 div.sk-parallel-item:only-child::after {width: 0;}#sk-container-id-1 div.sk-dashed-wrapped {border: 1px dashed gray;margin: 0 0.4em 0.5em 0.4em;box-sizing: border-box;padding-bottom: 0.4em;background-color: white;}#sk-container-id-1 div.sk-label label {font-family: monospace;font-weight: bold;display: inline-block;line-height: 1.2em;}#sk-container-id-1 div.sk-label-container {text-align: center;}#sk-container-id-1 div.sk-container {/* jupyter's `normalize.less` sets `[hidden] { display: none; }` but bootstrap.min.css set `[hidden] { display: none !important; }` so we also need the `!important` here to be able to override the default hidden behavior on the sphinx rendered scikit-learn.org. See: https://github.com/scikit-learn/scikit-learn/issues/21755 */display: inline-block !important;position: relative;}#sk-container-id-1 div.sk-text-repr-fallback {display: none;}</style><div id=\"sk-container-id-1\" class=\"sk-top-container\"><div class=\"sk-text-repr-fallback\"><pre>LinearRegression()</pre><b>In a Jupyter environment, please rerun this cell to show the HTML representation or trust the notebook. <br />On GitHub, the HTML representation is unable to render, please try loading this page with nbviewer.org.</b></div><div class=\"sk-container\" hidden><div class=\"sk-item\"><div class=\"sk-estimator sk-toggleable\"><input class=\"sk-toggleable__control sk-hidden--visually\" id=\"sk-estimator-id-1\" type=\"checkbox\" checked><label for=\"sk-estimator-id-1\" class=\"sk-toggleable__label sk-toggleable__label-arrow\">LinearRegression</label><div class=\"sk-toggleable__content\"><pre>LinearRegression()</pre></div></div></div></div></div>"
      ],
      "text/plain": [
       "LinearRegression()"
      ]
     },
     "execution_count": 5,
     "metadata": {},
     "output_type": "execute_result"
    }
   ],
   "source": [
    "model = LinearRegression()\n",
    "X = pd.DataFrame(x)\n",
    "Y = pd.DataFrame(y)\n",
    "model.fit(X,Y)"
   ]
  },
  {
   "cell_type": "code",
   "execution_count": 6,
   "metadata": {},
   "outputs": [
    {
     "data": {
      "text/plain": [
       "array([[0.13673557]])"
      ]
     },
     "execution_count": 6,
     "metadata": {},
     "output_type": "execute_result"
    }
   ],
   "source": [
    "model.coef_"
   ]
  },
  {
   "cell_type": "code",
   "execution_count": 7,
   "metadata": {},
   "outputs": [
    {
     "data": {
      "text/plain": [
       "(0.0, 100.0)"
      ]
     },
     "execution_count": 7,
     "metadata": {},
     "output_type": "execute_result"
    },
    {
     "data": {
      "image/png": "[encoded data removed]",
      "text/plain": [
       "<Figure size 720x432 with 1 Axes>"
      ]
     },
     "metadata": {
      "needs_background": "light"
     },
     "output_type": "display_data"
    }
   ],
   "source": [
    "plt.figure(figsize=(10,6))\n",
    "plt.scatter(x, y, alpha=1)\n",
    "\n",
    "plt.plot(x, model.predict(X), color='red')\n",
    "\n",
    "plt.xlabel('Объем трафика')\n",
    "plt.ylabel('Загруженность сети')\n",
    "plt.ylim(0, 100)"
   ]
  },
  {
   "cell_type": "code",
   "execution_count": 8,
   "metadata": {},
   "outputs": [
    {
     "name": "stdout",
     "output_type": "stream",
     "text": [
      "y = 0.1367x + -6.0522\n"
     ]
    }
   ],
   "source": [
    "print(\"y = \" + str(\"%.4f\" % model.coef_[0][0]) + \"x + \" + str(\"%.4f\" % model.intercept_)) # наша линейная функция"
   ]
  },
  {
   "cell_type": "code",
   "execution_count": 9,
   "metadata": {},
   "outputs": [
    {
     "data": {
      "text/plain": [
       "array([[20.0000004]])"
      ]
     },
     "execution_count": 9,
     "metadata": {},
     "output_type": "execute_result"
    }
   ],
   "source": [
    "model.predict(np.array([[190.52974]])) # можно запредиктить абсолютно любое x"
   ]
  },
  {
   "cell_type": "code",
   "execution_count": 10,
   "metadata": {},
   "outputs": [
    {
     "data": {
      "text/plain": [
       "0.3773753062748556"
      ]
     },
     "execution_count": 10,
     "metadata": {},
     "output_type": "execute_result"
    }
   ],
   "source": [
    "model.score(X, Y)"
   ]
  },
  {
   "cell_type": "markdown",
   "metadata": {},
   "source": [
    "Далее своя линейная регрессия"
   ]
  },
  {
   "cell_type": "code",
   "execution_count": 11,
   "metadata": {},
   "outputs": [],
   "source": [
    "#y=[0.0,0.6122448979591837,1.2244897959183674,1.836734693877551,2.4489795918367347,3.0612244897959187,3.673469387755102,4.285714285714286,4.8979591836734695,5.510204081632653,6.122448979591837,6.73469387755102,7.346938775510204,7.959183673469388,8.571428571428571,9.183673469387756,9.795918367346939,10.408163265306122,11.020408163265307,11.63265306122449,12.244897959183675,12.857142857142858,13.46938775510204,14.081632653061225,14.693877551020408,15.306122448979592,15.918367346938776,16.53061224489796,17.142857142857142,17.755102040816325,18.367346938775512,18.979591836734695,19.591836734693878,20.20408163265306,20.816326530612244,21.42857142857143,22.040816326530614,22.653061224489797,23.26530612244898,23.877551020408163,24.48979591836735,25.102040816326532,25.714285714285715,26.3265306122449,26.93877551020408,27.551020408163264,28.16326530612245,28.775510204081634,29.387755102040817,30.0]\n",
    "#x=[103.09532681036755,60.64960432687138,82.79483746232057,62.647110840536286,124.05925619404826,96.43828219023422,163.4763969980349,158.19304994371362,154.0288700910815,119.320495883008,130.75920827520008,155.8336870549172,172.12476348195835,142.97011987387154,152.8734390643684,116.54061936340476,121.22974679291919,138.24746425964807,109.7518957346999,177.3790353912938,127.14932042111192,110.0352943908648,196.1654513274892,146.92854909407683,197.06721054750625,149.29111065595092,171.9478101455099,198.4350773302673,119.34142026876306,204.6535999568399,160.1437312015482,203.88942920668063,152.89914630499246,216.73415864330298,142.58316573321767,220.10106549068115,187.0941705779788,139.56514227070937,126.41483140859235,201.84727785750437,162.4312786891109,183.83963018644098,161.8534384420994,138.51260296265937,190.2517740261142,179.13481699510126,223.59552589940637,234.7503986235846,153.7276977311854,155.34302733656108]\n"
   ]
  },
  {
   "cell_type": "code",
   "execution_count": 12,
   "metadata": {},
   "outputs": [
    {
     "data": {
      "text/plain": [
       "<matplotlib.collections.PathCollection at 0x1d86bb49480>"
      ]
     },
     "execution_count": 12,
     "metadata": {},
     "output_type": "execute_result"
    },
    {
     "data": {
      "image/png": "[encoded data removed]",
      "text/plain": [
       "<Figure size 432x288 with 1 Axes>"
      ]
     },
     "metadata": {
      "needs_background": "light"
     },
     "output_type": "display_data"
    }
   ],
   "source": [
    "X = np.random.randn(1000,1)\n",
    "y = 2*(X) + 10 + np.random.randn(1000,1)\n",
    "\n",
    "plt.scatter(X,y, alpha=0.3)\n",
    "#x_ = np.append(x, np.ones(m).reshape(m,1), axis=1) "
   ]
  },
  {
   "cell_type": "code",
   "execution_count": 13,
   "metadata": {},
   "outputs": [],
   "source": [
    "def wm(point, X, tau): \n",
    "    \n",
    "  # tau --> bandwidth\n",
    "  # X --> Training data.\n",
    "  # point --> the x where we want to make the prediction.\n",
    "    \n",
    "  # m is the No of training examples .\n",
    "    m = X.shape[0] \n",
    "    \n",
    "  # Initialising W as an identity matrix.\n",
    "    w = np.mat(np.eye(m)) \n",
    "    \n",
    "  # Calculating weights for all training examples [x(i)'s].\n",
    "    for i in range(m): \n",
    "        xi = X[i] \n",
    "        d = (-2 * tau * tau) \n",
    "        w[i, i] = np.exp(np.dot((xi-point), (xi-point).T)/d) \n",
    "        \n",
    "    return w"
   ]
  },
  {
   "cell_type": "code",
   "execution_count": 14,
   "metadata": {},
   "outputs": [],
   "source": [
    "def predict(X, y, point, tau): \n",
    "\n",
    "    m = X.shape[0] \n",
    "        \n",
    "    X_ = np.append(X, np.ones(m).reshape(m,1), axis=1) \n",
    "    \n",
    "   # point is the x where we want to make the prediction. \n",
    "    point_ = np.array([point, 1]) \n",
    "    \n",
    "   # Calculating the weight matrix using the wm function we wrote      #  # earlier. \n",
    "    w = wm(point_, X_, tau) \n",
    "    \n",
    "  # Calculating parameter theta using the formula.\n",
    "    theta = np.linalg.pinv(X_.T*(w * X_))*(X_.T*(w * y)) \n",
    "    print(theta)\n",
    "    \n",
    "  # Calculating predictions.  \n",
    "    pred = np.dot(point_, theta) \n",
    "    \n",
    "   # Returning the theta and predictions \n",
    "    return theta, pred"
   ]
  },
  {
   "cell_type": "code",
   "execution_count": 15,
   "metadata": {},
   "outputs": [],
   "source": [
    "def plot_predictions(X, y, tau, nval):\n",
    "   # X --> Training data. \n",
    "   # y --> Output sequence.\n",
    "   # nval --> number of values/points for which we are going to\n",
    "   # predict.\n",
    "   # tau --> the bandwidth.     \n",
    "    # The values for which we are going to predict.\n",
    "   # X_test includes nval evenly spaced values in the domain of X.\n",
    "    X_test = np.linspace(-3, 3, nval) \n",
    "    \n",
    "   # Empty list for storing predictions. \n",
    "    preds = [] \n",
    "    \n",
    "   # Predicting for all nval values and storing them in preds. \n",
    "    for point in X_test: \n",
    "        theta, pred = predict(X, y, point, tau) \n",
    "        preds.append(pred)\n",
    "        \n",
    "   # Reshaping X_test and preds\n",
    "    X_test = np.array(X_test).reshape(nval,1)\n",
    "    preds = np.array(preds).reshape(nval,1)\n",
    "    \n",
    "   # Plotting \n",
    "    plt.plot(X, y, 'b.')\n",
    "    plt.plot(X_test, preds, 'r.') # Predictions in red color.\n",
    "    plt.show()"
   ]
  },
  {
   "cell_type": "code",
   "execution_count": 16,
   "metadata": {},
   "outputs": [
    {
     "name": "stdout",
     "output_type": "stream",
     "text": [
      "[[1.95316958]\n",
      " [9.88657994]]\n",
      "[[1.95393975]\n",
      " [9.88771983]]\n",
      "[[1.95488321]\n",
      " [9.88909937]]\n",
      "[[1.95599368]\n",
      " [9.89070349]]\n",
      "[[1.9572646 ]\n",
      " [9.89251717]]\n",
      "[[1.95868914]\n",
      " [9.8945254 ]]\n",
      "[[1.96026019]\n",
      " [9.89671323]]\n",
      "[[1.96197038]\n",
      " [9.89906581]]\n",
      "[[1.96381213]\n",
      " [9.90156841]]\n",
      "[[1.96577762]\n",
      " [9.90420647]]\n",
      "[[1.96785886]\n",
      " [9.90696559]]\n",
      "[[1.97004769]\n",
      " [9.90983163]]\n",
      "[[1.9723358 ]\n",
      " [9.91279068]]\n",
      "[[1.97471478]\n",
      " [9.91582915]]\n",
      "[[1.97717612]\n",
      " [9.91893373]]\n",
      "[[1.97971128]\n",
      " [9.92209154]]\n",
      "[[1.98231169]\n",
      " [9.92529003]]\n",
      "[[1.98496877]\n",
      " [9.92851712]]\n",
      "[[1.98767401]\n",
      " [9.93176115]]\n",
      "[[1.99041896]\n",
      " [9.93501099]]\n",
      "[[1.99319527]\n",
      " [9.93825596]]\n",
      "[[1.99599476]\n",
      " [9.94148597]]\n",
      "[[1.99880937]\n",
      " [9.94469145]]\n",
      "[[2.00163128]\n",
      " [9.9478634 ]]\n",
      "[[2.00445286]\n",
      " [9.95099342]]\n",
      "[[2.00726675]\n",
      " [9.95407369]]\n",
      "[[2.01006585]\n",
      " [9.957097  ]]\n",
      "[[2.01284337]\n",
      " [9.96005675]]\n",
      "[[2.01559282]\n",
      " [9.96294694]]\n",
      "[[2.01830806]\n",
      " [9.96576217]]\n",
      "[[2.02098326]\n",
      " [9.96849765]]\n",
      "[[2.02361297]\n",
      " [9.97114918]]\n",
      "[[2.02619212]\n",
      " [9.97371312]]\n",
      "[[2.02871598]\n",
      " [9.9761864 ]]\n",
      "[[2.03118022]\n",
      " [9.9785665 ]]\n",
      "[[2.03358087]\n",
      " [9.98085142]]\n",
      "[[2.03591434]\n",
      " [9.98303966]]\n",
      "[[2.03817742]\n",
      " [9.98513019]]\n",
      "[[2.04036725]\n",
      " [9.98712246]]\n",
      "[[2.04248134]\n",
      " [9.98901632]]\n",
      "[[2.04451755]\n",
      " [9.99081203]]\n",
      "[[2.04647408]\n",
      " [9.99251022]]\n",
      "[[2.04834943]\n",
      " [9.99411186]]\n",
      "[[2.05014245]\n",
      " [9.99561824]]\n",
      "[[2.05185225]\n",
      " [9.99703094]]\n",
      "[[2.05347825]\n",
      " [9.9983518 ]]\n",
      "[[2.05502012]\n",
      " [9.99958287]]\n",
      "[[ 2.05647777]\n",
      " [10.00072643]]\n",
      "[[ 2.05785138]\n",
      " [10.00178492]]\n",
      "[[ 2.05914129]\n",
      " [10.00276096]]\n",
      "[[ 2.06034808]\n",
      " [10.00365729]]\n",
      "[[ 2.0614725 ]\n",
      " [10.00447673]]\n",
      "[[ 2.06251545]\n",
      " [10.00522224]]\n",
      "[[ 2.063478 ]\n",
      " [10.0058968]]\n",
      "[[ 2.06436134]\n",
      " [10.00650347]]\n",
      "[[ 2.06516678]\n",
      " [10.00704534]]\n",
      "[[ 2.06589574]\n",
      " [10.00752551]]\n",
      "[[ 2.06654972]\n",
      " [10.00794708]]\n",
      "[[ 2.06713031]\n",
      " [10.00831315]]\n",
      "[[ 2.06763916]\n",
      " [10.00862679]]\n",
      "[[ 2.06807798]\n",
      " [10.00889106]]\n",
      "[[ 2.06844852]\n",
      " [10.00910895]]\n",
      "[[ 2.06875256]\n",
      " [10.00928341]]\n",
      "[[ 2.06899192]\n",
      " [10.00941736]]\n",
      "[[ 2.06916843]\n",
      " [10.00951363]]\n",
      "[[ 2.06928394]\n",
      " [10.009575  ]]\n",
      "[[ 2.0693403 ]\n",
      " [10.00960416]]\n",
      "[[ 2.06933935]\n",
      " [10.00960375]]\n",
      "[[ 2.06928294]\n",
      " [10.00957633]]\n",
      "[[ 2.06917292]\n",
      " [10.00952436]]\n",
      "[[ 2.06901111]\n",
      " [10.00945025]]\n",
      "[[ 2.06879931]\n",
      " [10.00935631]]\n",
      "[[ 2.06853933]\n",
      " [10.00924478]]\n",
      "[[ 2.06823294]\n",
      " [10.00911781]]\n",
      "[[ 2.06788189]\n",
      " [10.00897747]]\n",
      "[[ 2.06748792]\n",
      " [10.00882575]]\n",
      "[[ 2.06705273]\n",
      " [10.00866457]]\n",
      "[[ 2.06657803]\n",
      " [10.00849575]]\n",
      "[[ 2.06606547]\n",
      " [10.00832105]]\n",
      "[[ 2.06551672]\n",
      " [10.00814215]]\n",
      "[[ 2.06493338]\n",
      " [10.00796063]]\n",
      "[[ 2.06431709]\n",
      " [10.00777804]]\n",
      "[[ 2.06366943]\n",
      " [10.00759582]]\n",
      "[[ 2.06299197]\n",
      " [10.00741534]]\n",
      "[[ 2.06228628]\n",
      " [10.0072379 ]]\n",
      "[[ 2.06155391]\n",
      " [10.00706475]]\n",
      "[[ 2.0607964 ]\n",
      " [10.00689704]]\n",
      "[[ 2.06001528]\n",
      " [10.00673586]]\n",
      "[[ 2.05921207]\n",
      " [10.00658224]]\n",
      "[[ 2.0583883 ]\n",
      " [10.00643712]]\n",
      "[[ 2.05754547]\n",
      " [10.0063014 ]]\n",
      "[[ 2.05668511]\n",
      " [10.00617589]]\n",
      "[[ 2.05580873]\n",
      " [10.00606133]]\n",
      "[[ 2.05491786]\n",
      " [10.0059584 ]]\n",
      "[[ 2.05401402]\n",
      " [10.00586772]]\n",
      "[[ 2.05309874]\n",
      " [10.00578981]]\n",
      "[[ 2.05217357]\n",
      " [10.00572516]]\n",
      "[[ 2.05124006]\n",
      " [10.00567415]]\n",
      "[[ 2.05029978]\n",
      " [10.00563712]]\n",
      "[[ 2.0493543 ]\n",
      " [10.00561433]]\n",
      "[[ 2.04840521]\n",
      " [10.00560594]]\n",
      "[[ 2.04745414]\n",
      " [10.00561208]]\n",
      "[[ 2.0465027 ]\n",
      " [10.00563278]]\n",
      "[[ 2.04555254]\n",
      " [10.00566798]]\n",
      "[[ 2.04460532]\n",
      " [10.00571758]]\n",
      "[[ 2.04366274]\n",
      " [10.00578137]]\n",
      "[[ 2.04272649]\n",
      " [10.00585906]]\n",
      "[[ 2.04179829]\n",
      " [10.0059503 ]]\n",
      "[[ 2.04087989]\n",
      " [10.00605465]]\n",
      "[[ 2.03997306]\n",
      " [10.00617157]]\n",
      "[[ 2.03907957]\n",
      " [10.00630046]]\n",
      "[[ 2.03820124]\n",
      " [10.00644061]]\n",
      "[[ 2.03733987]\n",
      " [10.00659124]]\n",
      "[[ 2.03649732]\n",
      " [10.00675147]]\n",
      "[[ 2.03567544]\n",
      " [10.00692035]]\n",
      "[[ 2.0348761 ]\n",
      " [10.00709683]]\n",
      "[[ 2.03410118]\n",
      " [10.00727976]]\n",
      "[[ 2.03335259]\n",
      " [10.00746791]]\n",
      "[[ 2.03263223]\n",
      " [10.00765997]]\n",
      "[[ 2.03194203]\n",
      " [10.00785452]]\n",
      "[[ 2.03128391]\n",
      " [10.00805006]]\n",
      "[[ 2.0306598 ]\n",
      " [10.00824501]]\n",
      "[[ 2.03007164]\n",
      " [10.00843769]]\n",
      "[[ 2.02952137]\n",
      " [10.00862633]]\n",
      "[[ 2.02901092]\n",
      " [10.00880908]]\n",
      "[[ 2.02854221]\n",
      " [10.008984  ]]\n",
      "[[ 2.02811718]\n",
      " [10.00914906]]\n",
      "[[ 2.02773773]\n",
      " [10.00930218]]\n",
      "[[ 2.02740576]\n",
      " [10.00944116]]\n",
      "[[ 2.02712315]\n",
      " [10.00956373]]\n",
      "[[ 2.02689178]\n",
      " [10.00966757]]\n",
      "[[ 2.02671349]\n",
      " [10.00975027]]\n",
      "[[ 2.0265901 ]\n",
      " [10.00980934]]\n",
      "[[ 2.02652339]\n",
      " [10.00984225]]\n",
      "[[ 2.02651513]\n",
      " [10.00984638]]\n",
      "[[ 2.02656705]\n",
      " [10.00981907]]\n",
      "[[ 2.02668085]\n",
      " [10.0097576 ]]\n",
      "[[ 2.02685816]\n",
      " [10.0096592 ]]\n",
      "[[ 2.0271006 ]\n",
      " [10.00952105]]\n",
      "[[ 2.02740973]\n",
      " [10.00934029]]\n",
      "[[ 2.02778707]\n",
      " [10.00911403]]\n",
      "[[ 2.02823409]\n",
      " [10.00883933]]\n",
      "[[ 2.02875218]\n",
      " [10.00851323]]\n",
      "[[ 2.02934271]\n",
      " [10.00813277]]\n",
      "[[ 2.03000697]\n",
      " [10.00769494]]\n",
      "[[ 2.03074618]\n",
      " [10.00719675]]\n",
      "[[ 2.03156153]\n",
      " [10.00663517]]\n",
      "[[ 2.03245411]\n",
      " [10.0060072 ]]\n",
      "[[ 2.03342495]\n",
      " [10.00530984]]\n",
      "[[ 2.03447501]\n",
      " [10.00454009]]\n",
      "[[ 2.03560519]\n",
      " [10.00369497]]\n",
      "[[ 2.03681629]\n",
      " [10.00277153]]\n",
      "[[ 2.03810906]\n",
      " [10.00176686]]\n",
      "[[ 2.03948416]\n",
      " [10.00067807]]\n",
      "[[2.04094215]\n",
      " [9.99950231]]\n",
      "[[2.04248355]\n",
      " [9.9982368 ]]\n",
      "[[2.04410876]\n",
      " [9.9968788 ]]\n",
      "[[2.04581811]\n",
      " [9.99542562]]\n",
      "[[2.04761185]\n",
      " [9.99387466]]\n",
      "[[2.04949013]\n",
      " [9.99222338]]\n",
      "[[2.05145302]\n",
      " [9.99046933]]\n",
      "[[2.05350048]\n",
      " [9.98861013]]\n",
      "[[2.05563242]\n",
      " [9.98664352]]\n",
      "[[2.05784863]\n",
      " [9.98456731]]\n",
      "[[2.0601488 ]\n",
      " [9.98237943]]\n",
      "[[2.06253255]\n",
      " [9.98007793]]\n",
      "[[2.06499938]\n",
      " [9.97766096]]\n",
      "[[2.06754872]\n",
      " [9.97512681]]\n",
      "[[2.07017988]\n",
      " [9.97247389]]\n",
      "[[2.0728921 ]\n",
      " [9.96970076]]\n",
      "[[2.07568449]\n",
      " [9.9668061 ]]\n",
      "[[2.07855608]\n",
      " [9.96378877]]\n",
      "[[2.08150581]\n",
      " [9.96064776]]\n",
      "[[2.0845325 ]\n",
      " [9.95738225]]\n",
      "[[2.08763488]\n",
      " [9.95399156]]\n",
      "[[2.09081157]\n",
      " [9.9504752 ]]\n",
      "[[2.09406109]\n",
      " [9.94683287]]\n",
      "[[2.09738188]\n",
      " [9.94306443]]\n",
      "[[2.10077226]\n",
      " [9.93916995]]\n",
      "[[2.10423042]\n",
      " [9.93514971]]\n",
      "[[2.1077545 ]\n",
      " [9.93100417]]\n",
      "[[2.11134249]\n",
      " [9.92673401]]\n",
      "[[2.11499231]\n",
      " [9.92234014]]\n",
      "[[2.11870175]\n",
      " [9.91782367]]\n",
      "[[2.12246851]\n",
      " [9.91318595]]\n",
      "[[2.12629019]\n",
      " [9.90842855]]\n",
      "[[2.13016427]\n",
      " [9.9035533 ]]\n",
      "[[2.13408815]\n",
      " [9.89856223]]\n",
      "[[2.1380591 ]\n",
      " [9.89345764]]\n",
      "[[2.14207431]\n",
      " [9.88824209]]\n",
      "[[2.14613087]\n",
      " [9.88291836]]\n",
      "[[2.15022575]\n",
      " [9.8774895 ]]\n",
      "[[2.15435585]\n",
      " [9.87195883]]\n",
      "[[2.15851796]\n",
      " [9.8663299 ]]\n",
      "[[2.16270878]\n",
      " [9.86060653]]\n",
      "[[2.16692492]\n",
      " [9.8547928 ]]\n",
      "[[2.1711629 ]\n",
      " [9.84889307]]\n",
      "[[2.17541915]\n",
      " [9.84291192]]\n",
      "[[2.17969004]\n",
      " [9.83685421]]\n",
      "[[2.18397184]\n",
      " [9.83072505]]\n"
     ]
    },
    {
     "data": {
      "image/png": "[encoded data removed]",
      "text/plain": [
       "<Figure size 432x288 with 1 Axes>"
      ]
     },
     "metadata": {
      "needs_background": "light"
     },
     "output_type": "display_data"
    }
   ],
   "source": [
    "plot_predictions(X, y, 1, 200)"
   ]
  },
  {
   "cell_type": "code",
   "execution_count": null,
   "metadata": {},
   "outputs": [],
   "source": []
  },
  {
   "cell_type": "code",
   "execution_count": null,
   "metadata": {},
   "outputs": [],
   "source": []
  },
  {
   "cell_type": "code",
   "execution_count": null,
   "metadata": {},
   "outputs": [],
   "source": []
  },
  {
   "cell_type": "code",
   "execution_count": null,
   "metadata": {},
   "outputs": [],
   "source": [
    "\n"
   ]
  },
  {
   "cell_type": "code",
   "execution_count": null,
   "metadata": {},
   "outputs": [],
   "source": []
  },
  {
   "cell_type": "code",
   "execution_count": null,
   "metadata": {},
   "outputs": [],
   "source": []
  },
  {
   "cell_type": "code",
   "execution_count": null,
   "metadata": {},
   "outputs": [],
   "source": []
  }
 ],
 "metadata": {
  "kernelspec": {
   "display_name": "Python 3.10.5 64-bit (windows store)",
   "language": "python",
   "name": "python3"
  },
  "language_info": {
   "codemirror_mode": {
    "name": "ipython",
    "version": 3
   },
   "file_extension": ".py",
   "mimetype": "text/x-python",
   "name": "python",
   "nbconvert_exporter": "python",
   "pygments_lexer": "ipython3",
   "version": "3.10.7"
  },
  "orig_nbformat": 4,
  "vscode": {
   "interpreter": {
    "hash": "c0268c06082bbe3cc38d55639c546f63482eb23e2c38516956ccd1f3a27bf008"
   }
  }
 },
 "nbformat": 4,
 "nbformat_minor": 2
}
