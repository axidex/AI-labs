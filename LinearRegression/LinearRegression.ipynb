{
 "cells": [
  {
   "cell_type": "code",
   "execution_count": 14,
   "metadata": {},
   "outputs": [],
   "source": [
    "import numpy as np\n",
    "import random\n",
    "import matplotlib.pyplot as plt\n",
    "from sklearn.model_selection import train_test_split\n",
    "from sklearn.linear_model import LinearRegression\n",
    "import pandas as pd"
   ]
  },
  {
   "cell_type": "code",
   "execution_count": 15,
   "metadata": {},
   "outputs": [
    {
     "name": "stdout",
     "output_type": "stream",
     "text": [
      "50\n",
      "50\n"
     ]
    }
   ],
   "source": [
    "y=[0.0,0.6122448979591837,1.2244897959183674,1.836734693877551,2.4489795918367347,3.0612244897959187,3.673469387755102,4.285714285714286,4.8979591836734695,5.510204081632653,6.122448979591837,6.73469387755102,7.346938775510204,7.959183673469388,8.571428571428571,9.183673469387756,9.795918367346939,10.408163265306122,11.020408163265307,11.63265306122449,12.244897959183675,12.857142857142858,13.46938775510204,14.081632653061225,14.693877551020408,15.306122448979592,15.918367346938776,16.53061224489796,17.142857142857142,17.755102040816325,18.367346938775512,18.979591836734695,19.591836734693878,20.20408163265306,20.816326530612244,21.42857142857143,22.040816326530614,22.653061224489797,23.26530612244898,23.877551020408163,24.48979591836735,25.102040816326532,25.714285714285715,26.3265306122449,26.93877551020408,27.551020408163264,28.16326530612245,28.775510204081634,29.387755102040817,30.0]\n",
    "x=[103.09532681036755,60.64960432687138,82.79483746232057,62.647110840536286,124.05925619404826,96.43828219023422,163.4763969980349,158.19304994371362,154.0288700910815,119.320495883008,130.75920827520008,155.8336870549172,172.12476348195835,142.97011987387154,152.8734390643684,116.54061936340476,121.22974679291919,138.24746425964807,109.7518957346999,177.3790353912938,127.14932042111192,110.0352943908648,196.1654513274892,146.92854909407683,197.06721054750625,149.29111065595092,171.9478101455099,198.4350773302673,119.34142026876306,204.6535999568399,160.1437312015482,203.88942920668063,152.89914630499246,216.73415864330298,142.58316573321767,220.10106549068115,187.0941705779788,139.56514227070937,126.41483140859235,201.84727785750437,162.4312786891109,183.83963018644098,161.8534384420994,138.51260296265937,190.2517740261142,179.13481699510126,223.59552589940637,234.7503986235846,153.7276977311854,155.34302733656108]\n",
    "n=len(y)\n",
    "\n",
    "print(len(x))\n",
    "print(len(y))"
   ]
  },
  {
   "cell_type": "code",
   "execution_count": 16,
   "metadata": {},
   "outputs": [
    {
     "data": {
      "text/plain": [
       "(0.0, 100.0)"
      ]
     },
     "execution_count": 16,
     "metadata": {},
     "output_type": "execute_result"
    },
    {
     "data": {
      "image/png": "[encoded data removed]",
      "text/plain": [
       "<Figure size 720x432 with 1 Axes>"
      ]
     },
     "metadata": {
      "needs_background": "light"
     },
     "output_type": "display_data"
    }
   ],
   "source": [
    "plt.figure(figsize=(10,6))\n",
    "plt.scatter(x, y, alpha=1)\n",
    "plt.xlabel('Объем трафика')\n",
    "plt.ylabel('Загруженность сети')\n",
    "plt.ylim(0, 100)"
   ]
  },
  {
   "cell_type": "code",
   "execution_count": 17,
   "metadata": {},
   "outputs": [
    {
     "data": {
      "text/html": [
       "<style>#sk-container-id-2 {color: black;background-color: white;}#sk-container-id-2 pre{padding: 0;}#sk-container-id-2 div.sk-toggleable {background-color: white;}#sk-container-id-2 label.sk-toggleable__label {cursor: pointer;display: block;width: 100%;margin-bottom: 0;padding: 0.3em;box-sizing: border-box;text-align: center;}#sk-container-id-2 label.sk-toggleable__label-arrow:before {content: \"▸\";float: left;margin-right: 0.25em;color: #696969;}#sk-container-id-2 label.sk-toggleable__label-arrow:hover:before {color: black;}#sk-container-id-2 div.sk-estimator:hover label.sk-toggleable__label-arrow:before {color: black;}#sk-container-id-2 div.sk-toggleable__content {max-height: 0;max-width: 0;overflow: hidden;text-align: left;background-color: #f0f8ff;}#sk-container-id-2 div.sk-toggleable__content pre {margin: 0.2em;color: black;border-radius: 0.25em;background-color: #f0f8ff;}#sk-container-id-2 input.sk-toggleable__control:checked~div.sk-toggleable__content {max-height: 200px;max-width: 100%;overflow: auto;}#sk-container-id-2 input.sk-toggleable__control:checked~label.sk-toggleable__label-arrow:before {content: \"▾\";}#sk-container-id-2 div.sk-estimator input.sk-toggleable__control:checked~label.sk-toggleable__label {background-color: #d4ebff;}#sk-container-id-2 div.sk-label input.sk-toggleable__control:checked~label.sk-toggleable__label {background-color: #d4ebff;}#sk-container-id-2 input.sk-hidden--visually {border: 0;clip: rect(1px 1px 1px 1px);clip: rect(1px, 1px, 1px, 1px);height: 1px;margin: -1px;overflow: hidden;padding: 0;position: absolute;width: 1px;}#sk-container-id-2 div.sk-estimator {font-family: monospace;background-color: #f0f8ff;border: 1px dotted black;border-radius: 0.25em;box-sizing: border-box;margin-bottom: 0.5em;}#sk-container-id-2 div.sk-estimator:hover {background-color: #d4ebff;}#sk-container-id-2 div.sk-parallel-item::after {content: \"\";width: 100%;border-bottom: 1px solid gray;flex-grow: 1;}#sk-container-id-2 div.sk-label:hover label.sk-toggleable__label {background-color: #d4ebff;}#sk-container-id-2 div.sk-serial::before {content: \"\";position: absolute;border-left: 1px solid gray;box-sizing: border-box;top: 0;bottom: 0;left: 50%;z-index: 0;}#sk-container-id-2 div.sk-serial {display: flex;flex-direction: column;align-items: center;background-color: white;padding-right: 0.2em;padding-left: 0.2em;position: relative;}#sk-container-id-2 div.sk-item {position: relative;z-index: 1;}#sk-container-id-2 div.sk-parallel {display: flex;align-items: stretch;justify-content: center;background-color: white;position: relative;}#sk-container-id-2 div.sk-item::before, #sk-container-id-2 div.sk-parallel-item::before {content: \"\";position: absolute;border-left: 1px solid gray;box-sizing: border-box;top: 0;bottom: 0;left: 50%;z-index: -1;}#sk-container-id-2 div.sk-parallel-item {display: flex;flex-direction: column;z-index: 1;position: relative;background-color: white;}#sk-container-id-2 div.sk-parallel-item:first-child::after {align-self: flex-end;width: 50%;}#sk-container-id-2 div.sk-parallel-item:last-child::after {align-self: flex-start;width: 50%;}#sk-container-id-2 div.sk-parallel-item:only-child::after {width: 0;}#sk-container-id-2 div.sk-dashed-wrapped {border: 1px dashed gray;margin: 0 0.4em 0.5em 0.4em;box-sizing: border-box;padding-bottom: 0.4em;background-color: white;}#sk-container-id-2 div.sk-label label {font-family: monospace;font-weight: bold;display: inline-block;line-height: 1.2em;}#sk-container-id-2 div.sk-label-container {text-align: center;}#sk-container-id-2 div.sk-container {/* jupyter's `normalize.less` sets `[hidden] { display: none; }` but bootstrap.min.css set `[hidden] { display: none !important; }` so we also need the `!important` here to be able to override the default hidden behavior on the sphinx rendered scikit-learn.org. See: https://github.com/scikit-learn/scikit-learn/issues/21755 */display: inline-block !important;position: relative;}#sk-container-id-2 div.sk-text-repr-fallback {display: none;}</style><div id=\"sk-container-id-2\" class=\"sk-top-container\"><div class=\"sk-text-repr-fallback\"><pre>LinearRegression()</pre><b>In a Jupyter environment, please rerun this cell to show the HTML representation or trust the notebook. <br />On GitHub, the HTML representation is unable to render, please try loading this page with nbviewer.org.</b></div><div class=\"sk-container\" hidden><div class=\"sk-item\"><div class=\"sk-estimator sk-toggleable\"><input class=\"sk-toggleable__control sk-hidden--visually\" id=\"sk-estimator-id-2\" type=\"checkbox\" checked><label for=\"sk-estimator-id-2\" class=\"sk-toggleable__label sk-toggleable__label-arrow\">LinearRegression</label><div class=\"sk-toggleable__content\"><pre>LinearRegression()</pre></div></div></div></div></div>"
      ],
      "text/plain": [
       "LinearRegression()"
      ]
     },
     "execution_count": 17,
     "metadata": {},
     "output_type": "execute_result"
    }
   ],
   "source": [
    "model = LinearRegression()\n",
    "X = pd.DataFrame(x)\n",
    "Y = pd.DataFrame(y)\n",
    "model.fit(X,Y)"
   ]
  },
  {
   "cell_type": "code",
   "execution_count": 18,
   "metadata": {},
   "outputs": [
    {
     "data": {
      "text/plain": [
       "array([[0.13673557]])"
      ]
     },
     "execution_count": 18,
     "metadata": {},
     "output_type": "execute_result"
    }
   ],
   "source": [
    "model.coef_"
   ]
  },
  {
   "cell_type": "code",
   "execution_count": 19,
   "metadata": {},
   "outputs": [
    {
     "data": {
      "text/plain": [
       "(0.0, 100.0)"
      ]
     },
     "execution_count": 19,
     "metadata": {},
     "output_type": "execute_result"
    },
    {
     "data": {
      "image/png": "[encoded data removed]",
      "text/plain": [
       "<Figure size 720x432 with 1 Axes>"
      ]
     },
     "metadata": {
      "needs_background": "light"
     },
     "output_type": "display_data"
    }
   ],
   "source": [
    "plt.figure(figsize=(10,6))\n",
    "plt.scatter(x, y, alpha=1)\n",
    "\n",
    "plt.plot(x, model.predict(X), color='red')\n",
    "\n",
    "plt.xlabel('Объем трафика')\n",
    "plt.ylabel('Загруженность сети')\n",
    "plt.ylim(0, 100)"
   ]
  },
  {
   "cell_type": "code",
   "execution_count": 20,
   "metadata": {},
   "outputs": [
    {
     "name": "stdout",
     "output_type": "stream",
     "text": [
      "y = 0.1367x + -6.0522\n"
     ]
    }
   ],
   "source": [
    "print(\"y = \" + str(\"%.4f\" % model.coef_[0][0]) + \"x + \" + str(\"%.4f\" % model.intercept_)) # наша линейная функция"
   ]
  },
  {
   "cell_type": "code",
   "execution_count": 21,
   "metadata": {},
   "outputs": [
    {
     "data": {
      "text/plain": [
       "array([[20.0000004]])"
      ]
     },
     "execution_count": 21,
     "metadata": {},
     "output_type": "execute_result"
    }
   ],
   "source": [
    "model.predict(np.array([[190.52974]])) # можно запредиктить абсолютно любое x"
   ]
  },
  {
   "cell_type": "code",
   "execution_count": 22,
   "metadata": {},
   "outputs": [
    {
     "data": {
      "text/plain": [
       "0.3773753062748556"
      ]
     },
     "execution_count": 22,
     "metadata": {},
     "output_type": "execute_result"
    }
   ],
   "source": [
    "model.score(X, Y)"
   ]
  },
  {
   "cell_type": "markdown",
   "metadata": {},
   "source": [
    "Далее своя линейная регрессия"
   ]
  },
  {
   "cell_type": "code",
   "execution_count": 23,
   "metadata": {},
   "outputs": [],
   "source": [
    "#y=[0.0,0.6122448979591837,1.2244897959183674,1.836734693877551,2.4489795918367347,3.0612244897959187,3.673469387755102,4.285714285714286,4.8979591836734695,5.510204081632653,6.122448979591837,6.73469387755102,7.346938775510204,7.959183673469388,8.571428571428571,9.183673469387756,9.795918367346939,10.408163265306122,11.020408163265307,11.63265306122449,12.244897959183675,12.857142857142858,13.46938775510204,14.081632653061225,14.693877551020408,15.306122448979592,15.918367346938776,16.53061224489796,17.142857142857142,17.755102040816325,18.367346938775512,18.979591836734695,19.591836734693878,20.20408163265306,20.816326530612244,21.42857142857143,22.040816326530614,22.653061224489797,23.26530612244898,23.877551020408163,24.48979591836735,25.102040816326532,25.714285714285715,26.3265306122449,26.93877551020408,27.551020408163264,28.16326530612245,28.775510204081634,29.387755102040817,30.0]\n",
    "#x=[103.09532681036755,60.64960432687138,82.79483746232057,62.647110840536286,124.05925619404826,96.43828219023422,163.4763969980349,158.19304994371362,154.0288700910815,119.320495883008,130.75920827520008,155.8336870549172,172.12476348195835,142.97011987387154,152.8734390643684,116.54061936340476,121.22974679291919,138.24746425964807,109.7518957346999,177.3790353912938,127.14932042111192,110.0352943908648,196.1654513274892,146.92854909407683,197.06721054750625,149.29111065595092,171.9478101455099,198.4350773302673,119.34142026876306,204.6535999568399,160.1437312015482,203.88942920668063,152.89914630499246,216.73415864330298,142.58316573321767,220.10106549068115,187.0941705779788,139.56514227070937,126.41483140859235,201.84727785750437,162.4312786891109,183.83963018644098,161.8534384420994,138.51260296265937,190.2517740261142,179.13481699510126,223.59552589940637,234.7503986235846,153.7276977311854,155.34302733656108]\n"
   ]
  },
  {
   "cell_type": "code",
   "execution_count": 24,
   "metadata": {},
   "outputs": [
    {
     "name": "stdout",
     "output_type": "stream",
     "text": [
      "50 50\n"
     ]
    }
   ],
   "source": [
    "m = 0\n",
    "c = 0\n",
    "\n",
    "Y=[0.0,0.6122448979591837,1.2244897959183674,1.836734693877551,2.4489795918367347,3.0612244897959187,3.673469387755102,4.285714285714286,4.8979591836734695,5.510204081632653,6.122448979591837,6.73469387755102,7.346938775510204,7.959183673469388,8.571428571428571,9.183673469387756,9.795918367346939,10.408163265306122,11.020408163265307,11.63265306122449,12.244897959183675,12.857142857142858,13.46938775510204,14.081632653061225,14.693877551020408,15.306122448979592,15.918367346938776,16.53061224489796,17.142857142857142,17.755102040816325,18.367346938775512,18.979591836734695,19.591836734693878,20.20408163265306,20.816326530612244,21.42857142857143,22.040816326530614,22.653061224489797,23.26530612244898,23.877551020408163,24.48979591836735,25.102040816326532,25.714285714285715,26.3265306122449,26.93877551020408,27.551020408163264,28.16326530612245,28.775510204081634,29.387755102040817,30.0]\n",
    "X=[103.09532681036755,60.64960432687138,82.79483746232057,62.647110840536286,124.05925619404826,96.43828219023422,163.4763969980349,158.19304994371362,154.0288700910815,119.320495883008,130.75920827520008,155.8336870549172,172.12476348195835,142.97011987387154,152.8734390643684,116.54061936340476,121.22974679291919,138.24746425964807,109.7518957346999,177.3790353912938,127.14932042111192,110.0352943908648,196.1654513274892,146.92854909407683,197.06721054750625,149.29111065595092,171.9478101455099,198.4350773302673,119.34142026876306,204.6535999568399,160.1437312015482,203.88942920668063,152.89914630499246,216.73415864330298,142.58316573321767,220.10106549068115,187.0941705779788,139.56514227070937,126.41483140859235,201.84727785750437,162.4312786891109,183.83963018644098,161.8534384420994,138.51260296265937,190.2517740261142,179.13481699510126,223.59552589940637,234.7503986235846,153.7276977311854,155.34302733656108]\n",
    "\n",
    "print (len(X), len(Y))\n",
    "\n",
    "X_train = X[1:40]\n",
    "Y_train = Y[1:40]\n",
    "\n",
    "X_test = X[40:51]\n",
    "Y_test = Y[40:51]\n",
    "Xpd_test = pd.DataFrame(X_test)\n",
    "Ypd_test = pd.DataFrame(Y_test)\n"
   ]
  },
  {
   "cell_type": "code",
   "execution_count": 25,
   "metadata": {},
   "outputs": [
    {
     "name": "stdout",
     "output_type": "stream",
     "text": [
      "            X         Y\n",
      "0   60.649604  0.612245\n",
      "1   82.794837  1.224490\n",
      "2   62.647111  1.836735\n",
      "3  124.059256  2.448980\n",
      "4   96.438282  3.061224\n"
     ]
    }
   ],
   "source": [
    "data = pd.DataFrame(list(zip(X_train, Y_train)), columns =['X', 'Y']) \n",
    "\n",
    "weights = []\n",
    "\n",
    "print(data.head())\n",
    "\n",
    "X_train = data.iloc[:, 0]\n",
    "Y = data.iloc[:, 1]\n",
    "# Коэфицент обучения\n",
    "L = 0.00001\n",
    "# Кол-во итераций в градиентном спуске\n",
    "epochs = 1000\n",
    "# Кол-во элементов в векторе X\n",
    "n = float(len(X_train))"
   ]
  },
  {
   "cell_type": "code",
   "execution_count": 26,
   "metadata": {},
   "outputs": [],
   "source": [
    "# Градиентный спуск\n",
    "for i in range(epochs):\n",
    "    Y_pred = m * X_train + c  # текущий предсказанный y\n",
    "    D_m = (-2 / n) * sum(X_train * (Y_train - Y_pred))  # Производная функции ошибки для X\n",
    "    D_c = (-2 / n) * sum(Y_train - Y_pred)  # Производная функции ошибки для Y  \n",
    "    m = m - L * D_m  # новое m \n",
    "    c = c - L * D_c  # новое c это наши коэфиценты у прямой мы делаем так, чтобы ошибка была минимальной\n",
    "    weights.append(m)\n",
    "W = pd.DataFrame(weights)\n",
    "Xpd_train = pd.DataFrame(X_train)\n",
    "Ypd_train = pd.DataFrame(Y_train)\n",
    "Ypred = []"
   ]
  },
  {
   "cell_type": "code",
   "execution_count": 27,
   "metadata": {},
   "outputs": [
    {
     "name": "stdout",
     "output_type": "stream",
     "text": [
      "0.08371469323251199 -0.003995990898771055\n"
     ]
    }
   ],
   "source": [
    "print(m, c)"
   ]
  },
  {
   "cell_type": "code",
   "execution_count": 28,
   "metadata": {},
   "outputs": [
    {
     "name": "stdout",
     "output_type": "stream",
     "text": [
      "[[0.10536305]] [-3.45583096]\n"
     ]
    }
   ],
   "source": [
    "def predict(x):\n",
    "    return m * x + c\n",
    "for el in X_test:\n",
    "    Ypred.append(el*m)\n",
    "Yp = pd.DataFrame(Ypred)\n",
    "\n",
    "model.fit(Xpd_train, Ypd_train)\n",
    "print(model.coef_, model.intercept_)"
   ]
  },
  {
   "cell_type": "code",
   "execution_count": 29,
   "metadata": {},
   "outputs": [
    {
     "name": "stderr",
     "output_type": "stream",
     "text": [
      "C:\\Users\\StepW\\AppData\\Local\\Packages\\PythonSoftwareFoundation.Python.3.10_qbz5n2kfra8p0\\LocalCache\\local-packages\\Python310\\site-packages\\sklearn\\base.py:450: UserWarning: X does not have valid feature names, but LinearRegression was fitted with feature names\n",
      "  warnings.warn(\n"
     ]
    },
    {
     "data": {
      "text/plain": [
       "(0.0, 100.0)"
      ]
     },
     "execution_count": 29,
     "metadata": {},
     "output_type": "execute_result"
    },
    {
     "data": {
      "image/png": "[encoded data removed]",
      "text/plain": [
       "<Figure size 720x432 with 1 Axes>"
      ]
     },
     "metadata": {
      "needs_background": "light"
     },
     "output_type": "display_data"
    }
   ],
   "source": [
    "plt.figure(figsize=(10,6))\n",
    "plt.xlabel('Объем трафика')\n",
    "plt.ylabel('Загруженность сети')\n",
    "plt.scatter(X_train, Y_train, color = \"pink\")\n",
    "plt.scatter(X_test, Y_test, color = \"black\")\n",
    "plt.plot(X_test, Yp, color =\"red\")\n",
    "plt.plot(X_test, model.predict(Xpd_test), color = \"purple\")\n",
    "plt.ylim(0, 100)"
   ]
  },
  {
   "cell_type": "code",
   "execution_count": null,
   "metadata": {},
   "outputs": [],
   "source": []
  },
  {
   "cell_type": "code",
   "execution_count": 30,
   "metadata": {},
   "outputs": [
    {
     "name": "stderr",
     "output_type": "stream",
     "text": [
      "C:\\Users\\StepW\\AppData\\Local\\Temp\\ipykernel_19148\\251996329.py:12: FutureWarning: Calling a ufunc on non-aligned DataFrames (or DataFrame/Series combination). Currently, the indices are ignored and the result takes the index/columns of the first DataFrame. In the future , the DataFrames/Series will be aligned before applying the ufunc.\n",
      "Convert one of the arguments to a NumPy array (eg 'ufunc(df1, np.asarray(df2)') to keep the current behaviour, or align manually (eg 'df1, df2 = df1.align(df2)') before passing to the ufunc to obtain the future behaviour and silence this warning.\n",
      "  return np.matmul(x, theta)\n"
     ]
    },
    {
     "name": "stdout",
     "output_type": "stream",
     "text": [
      "[           0\n",
      "0  63.864526,            0\n",
      "0  43.611447,            0\n",
      "0  31.839459,            0\n",
      "0  24.997057,           0\n",
      "0  21.01995,            0\n",
      "0  18.708278,            0\n",
      "0  17.364632,            0\n",
      "0  16.583646,            0\n",
      "0  16.129702,            0\n",
      "0  15.865849,            0\n",
      "0  15.712487,            0\n",
      "0  15.623345,            0\n",
      "0  15.571533,            0\n",
      "0  15.541417,            0\n",
      "0  15.523912,            0\n",
      "0  15.513737,            0\n",
      "0  15.507823,            0\n",
      "0  15.504386,            0\n",
      "0  15.502388,            0\n",
      "0  15.501227,            0\n",
      "0  15.500552,            0\n",
      "0  15.500159,            0\n",
      "0  15.499931,            0\n",
      "0  15.499799,            0\n",
      "0  15.499722,            0\n",
      "0  15.499677,            0\n",
      "0  15.499651,            0\n",
      "0  15.499636,            0\n",
      "0  15.499627,            0\n",
      "0  15.499622,            0\n",
      "0  15.499619,            0\n",
      "0  15.499617,            0\n",
      "0  15.499616,            0\n",
      "0  15.499616,            0\n",
      "0  15.499615,            0\n",
      "0  15.499615,            0\n",
      "0  15.499615,            0\n",
      "0  15.499615,            0\n",
      "0  15.499615,            0\n",
      "0  15.499615,            0\n",
      "0  15.499615,            0\n",
      "0  15.499615,            0\n",
      "0  15.499615,            0\n",
      "0  15.499615,            0\n",
      "0  15.499615,            0\n",
      "0  15.499615,            0\n",
      "0  15.499615,            0\n",
      "0  15.499615,            0\n",
      "0  15.499615,            0\n",
      "0  15.499615]\n"
     ]
    },
    {
     "data": {
      "image/png": "[encoded data removed]",
      "text/plain": [
       "<Figure size 432x288 with 1 Axes>"
      ]
     },
     "metadata": {
      "needs_background": "light"
     },
     "output_type": "display_data"
    }
   ],
   "source": [
    "#variables to store mean and standard deviation for each feature\n",
    "mu = []\n",
    "std = []\n",
    "\n",
    "def plot_data(x, y):\n",
    "\tplt.xlabel('house size')\n",
    "\tplt.ylabel('price')\n",
    "\tplt.plot(x[:,0], y, 'bo')\n",
    "\tplt.show()\n",
    "\n",
    "def h(x,theta):\n",
    "\treturn np.matmul(x, theta)\n",
    "\n",
    "def cost_function(x, y, theta):\n",
    "\treturn ((h(x, theta)-y).T@(h(x, theta)-y))/(2*y.shape[0])\n",
    "\n",
    "def gradient_descent(x, y, theta, learning_rate=0.1, num_epochs=10):\n",
    "\tm = x.shape[0]\n",
    "\tJ_all = []\n",
    "\t\n",
    "\tfor _ in range(num_epochs):\n",
    "\t\th_x = h(x, theta)\n",
    "\t\tcost_ = (1/m)*(x.T@(h_x - y))\n",
    "\t\ttheta = theta - (learning_rate)*cost_\n",
    "\t\tJ_all.append(cost_function(x, y, theta))\n",
    "\n",
    "\treturn theta, J_all \n",
    "\n",
    "def plot_cost(J_all, num_epochs):\n",
    "\tplt.xlabel('Epochs')\n",
    "\tplt.ylabel('Cost')\n",
    "\tplt.plot(num_epochs, J_all, 'm', linewidth = \"5\")\n",
    "\tplt.show()\n",
    "\n",
    "def test(theta, x):\n",
    "\tx[0] = (x[0] - mu[0])/std[0]\n",
    "\tx[1] = (x[1] - mu[1])/std[1]\n",
    "\n",
    "\ty = theta[0] + theta[1]*x[0] + theta[2]*x[1]\n",
    "\tprint(\"Price of house: \", y)\n",
    "\n",
    "x,y = Xpd_train, Ypd_train\n",
    "theta = np.zeros((x.shape[1], 1))\n",
    "learning_rate = 0.00001\n",
    "num_epochs = 50\n",
    "theta, J_all = gradient_descent(x, y, theta, learning_rate, num_epochs)\n",
    "J = cost_function(x, y, theta)\n",
    "#print(\"Cost: \", J)\n",
    "#print(\"Parameters: \", theta)\n",
    "\n",
    "print(J_all)\n",
    "\n",
    "\n",
    "#for testing and plotting cost \n",
    "n_epochs = []\n",
    "jplot = []\n",
    "count = 0\n",
    "for i in J_all:\n",
    "\tjplot.append(i[0][0])\n",
    "\tn_epochs.append(count)\n",
    "\tcount += 1\n",
    "jplot = np.array(jplot)\n",
    "n_epochs = np.array(n_epochs)\n",
    "plot_cost(jplot, n_epochs)\n",
    "\n",
    "#test(theta, [1600, 3])"
   ]
  },
  {
   "cell_type": "code",
   "execution_count": null,
   "metadata": {},
   "outputs": [],
   "source": []
  },
  {
   "cell_type": "code",
   "execution_count": null,
   "metadata": {},
   "outputs": [],
   "source": [
    "\n"
   ]
  },
  {
   "cell_type": "code",
   "execution_count": null,
   "metadata": {},
   "outputs": [],
   "source": []
  },
  {
   "cell_type": "code",
   "execution_count": null,
   "metadata": {},
   "outputs": [],
   "source": []
  },
  {
   "cell_type": "code",
   "execution_count": null,
   "metadata": {},
   "outputs": [],
   "source": []
  }
 ],
 "metadata": {
  "kernelspec": {
   "display_name": "Python 3.10.5 64-bit (windows store)",
   "language": "python",
   "name": "python3"
  },
  "language_info": {
   "codemirror_mode": {
    "name": "ipython",
    "version": 3
   },
   "file_extension": ".py",
   "mimetype": "text/x-python",
   "name": "python",
   "nbconvert_exporter": "python",
   "pygments_lexer": "ipython3",
   "version": "3.10.7"
  },
  "orig_nbformat": 4,
  "vscode": {
   "interpreter": {
    "hash": "c0268c06082bbe3cc38d55639c546f63482eb23e2c38516956ccd1f3a27bf008"
   }
  }
 },
 "nbformat": 4,
 "nbformat_minor": 2
}
