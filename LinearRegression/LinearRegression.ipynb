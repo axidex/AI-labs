{
 "cells": [
  {
   "cell_type": "code",
   "execution_count": 2,
   "metadata": {},
   "outputs": [],
   "source": [
    "from tokenize import PlainToken\n",
    "import numpy as np\n",
    "import random\n",
    "import matplotlib.pyplot as plt\n",
    "from sklearn.model_selection import train_test_split\n",
    "from sklearn.linear_model import LinearRegression\n",
    "import pandas as pd"
   ]
  },
  {
   "cell_type": "code",
   "execution_count": 3,
   "metadata": {},
   "outputs": [
    {
     "name": "stdout",
     "output_type": "stream",
     "text": [
      "50\n",
      "50\n"
     ]
    }
   ],
   "source": [
    "y=[0.0,0.6122448979591837,1.2244897959183674,1.836734693877551,2.4489795918367347,3.0612244897959187,3.673469387755102,4.285714285714286,4.8979591836734695,5.510204081632653,6.122448979591837,6.73469387755102,7.346938775510204,7.959183673469388,8.571428571428571,9.183673469387756,9.795918367346939,10.408163265306122,11.020408163265307,11.63265306122449,12.244897959183675,12.857142857142858,13.46938775510204,14.081632653061225,14.693877551020408,15.306122448979592,15.918367346938776,16.53061224489796,17.142857142857142,17.755102040816325,18.367346938775512,18.979591836734695,19.591836734693878,20.20408163265306,20.816326530612244,21.42857142857143,22.040816326530614,22.653061224489797,23.26530612244898,23.877551020408163,24.48979591836735,25.102040816326532,25.714285714285715,26.3265306122449,26.93877551020408,27.551020408163264,28.16326530612245,28.775510204081634,29.387755102040817,30.0]\n",
    "x=[103.09532681036755,60.64960432687138,82.79483746232057,62.647110840536286,124.05925619404826,96.43828219023422,163.4763969980349,158.19304994371362,154.0288700910815,119.320495883008,130.75920827520008,155.8336870549172,172.12476348195835,142.97011987387154,152.8734390643684,116.54061936340476,121.22974679291919,138.24746425964807,109.7518957346999,177.3790353912938,127.14932042111192,110.0352943908648,196.1654513274892,146.92854909407683,197.06721054750625,149.29111065595092,171.9478101455099,198.4350773302673,119.34142026876306,204.6535999568399,160.1437312015482,203.88942920668063,152.89914630499246,216.73415864330298,142.58316573321767,220.10106549068115,187.0941705779788,139.56514227070937,126.41483140859235,201.84727785750437,162.4312786891109,183.83963018644098,161.8534384420994,138.51260296265937,190.2517740261142,179.13481699510126,223.59552589940637,234.7503986235846,153.7276977311854,155.34302733656108]\n",
    "n=len(y)\n",
    "\n",
    "print(len(x))\n",
    "print(len(y))"
   ]
  },
  {
   "cell_type": "code",
   "execution_count": 4,
   "metadata": {},
   "outputs": [
    {
     "data": {
      "text/plain": [
       "(0.0, 100.0)"
      ]
     },
     "execution_count": 4,
     "metadata": {},
     "output_type": "execute_result"
    },
    {
     "data": {
      "image/png": "[encoded data removed]",
      "text/plain": [
       "<Figure size 720x432 with 1 Axes>"
      ]
     },
     "metadata": {
      "needs_background": "light"
     },
     "output_type": "display_data"
    }
   ],
   "source": [
    "plt.figure(figsize=(10,6))\n",
    "plt.scatter(x, y, alpha=1)\n",
    "plt.xlabel('Объем трафика')\n",
    "plt.ylabel('Загруженность сети')\n",
    "plt.ylim(0, 100)"
   ]
  },
  {
   "cell_type": "code",
   "execution_count": 5,
   "metadata": {},
   "outputs": [
    {
     "data": {
      "text/html": [
       "<style>#sk-container-id-1 {color: black;background-color: white;}#sk-container-id-1 pre{padding: 0;}#sk-container-id-1 div.sk-toggleable {background-color: white;}#sk-container-id-1 label.sk-toggleable__label {cursor: pointer;display: block;width: 100%;margin-bottom: 0;padding: 0.3em;box-sizing: border-box;text-align: center;}#sk-container-id-1 label.sk-toggleable__label-arrow:before {content: \"▸\";float: left;margin-right: 0.25em;color: #696969;}#sk-container-id-1 label.sk-toggleable__label-arrow:hover:before {color: black;}#sk-container-id-1 div.sk-estimator:hover label.sk-toggleable__label-arrow:before {color: black;}#sk-container-id-1 div.sk-toggleable__content {max-height: 0;max-width: 0;overflow: hidden;text-align: left;background-color: #f0f8ff;}#sk-container-id-1 div.sk-toggleable__content pre {margin: 0.2em;color: black;border-radius: 0.25em;background-color: #f0f8ff;}#sk-container-id-1 input.sk-toggleable__control:checked~div.sk-toggleable__content {max-height: 200px;max-width: 100%;overflow: auto;}#sk-container-id-1 input.sk-toggleable__control:checked~label.sk-toggleable__label-arrow:before {content: \"▾\";}#sk-container-id-1 div.sk-estimator input.sk-toggleable__control:checked~label.sk-toggleable__label {background-color: #d4ebff;}#sk-container-id-1 div.sk-label input.sk-toggleable__control:checked~label.sk-toggleable__label {background-color: #d4ebff;}#sk-container-id-1 input.sk-hidden--visually {border: 0;clip: rect(1px 1px 1px 1px);clip: rect(1px, 1px, 1px, 1px);height: 1px;margin: -1px;overflow: hidden;padding: 0;position: absolute;width: 1px;}#sk-container-id-1 div.sk-estimator {font-family: monospace;background-color: #f0f8ff;border: 1px dotted black;border-radius: 0.25em;box-sizing: border-box;margin-bottom: 0.5em;}#sk-container-id-1 div.sk-estimator:hover {background-color: #d4ebff;}#sk-container-id-1 div.sk-parallel-item::after {content: \"\";width: 100%;border-bottom: 1px solid gray;flex-grow: 1;}#sk-container-id-1 div.sk-label:hover label.sk-toggleable__label {background-color: #d4ebff;}#sk-container-id-1 div.sk-serial::before {content: \"\";position: absolute;border-left: 1px solid gray;box-sizing: border-box;top: 0;bottom: 0;left: 50%;z-index: 0;}#sk-container-id-1 div.sk-serial {display: flex;flex-direction: column;align-items: center;background-color: white;padding-right: 0.2em;padding-left: 0.2em;position: relative;}#sk-container-id-1 div.sk-item {position: relative;z-index: 1;}#sk-container-id-1 div.sk-parallel {display: flex;align-items: stretch;justify-content: center;background-color: white;position: relative;}#sk-container-id-1 div.sk-item::before, #sk-container-id-1 div.sk-parallel-item::before {content: \"\";position: absolute;border-left: 1px solid gray;box-sizing: border-box;top: 0;bottom: 0;left: 50%;z-index: -1;}#sk-container-id-1 div.sk-parallel-item {display: flex;flex-direction: column;z-index: 1;position: relative;background-color: white;}#sk-container-id-1 div.sk-parallel-item:first-child::after {align-self: flex-end;width: 50%;}#sk-container-id-1 div.sk-parallel-item:last-child::after {align-self: flex-start;width: 50%;}#sk-container-id-1 div.sk-parallel-item:only-child::after {width: 0;}#sk-container-id-1 div.sk-dashed-wrapped {border: 1px dashed gray;margin: 0 0.4em 0.5em 0.4em;box-sizing: border-box;padding-bottom: 0.4em;background-color: white;}#sk-container-id-1 div.sk-label label {font-family: monospace;font-weight: bold;display: inline-block;line-height: 1.2em;}#sk-container-id-1 div.sk-label-container {text-align: center;}#sk-container-id-1 div.sk-container {/* jupyter's `normalize.less` sets `[hidden] { display: none; }` but bootstrap.min.css set `[hidden] { display: none !important; }` so we also need the `!important` here to be able to override the default hidden behavior on the sphinx rendered scikit-learn.org. See: https://github.com/scikit-learn/scikit-learn/issues/21755 */display: inline-block !important;position: relative;}#sk-container-id-1 div.sk-text-repr-fallback {display: none;}</style><div id=\"sk-container-id-1\" class=\"sk-top-container\"><div class=\"sk-text-repr-fallback\"><pre>LinearRegression()</pre><b>In a Jupyter environment, please rerun this cell to show the HTML representation or trust the notebook. <br />On GitHub, the HTML representation is unable to render, please try loading this page with nbviewer.org.</b></div><div class=\"sk-container\" hidden><div class=\"sk-item\"><div class=\"sk-estimator sk-toggleable\"><input class=\"sk-toggleable__control sk-hidden--visually\" id=\"sk-estimator-id-1\" type=\"checkbox\" checked><label for=\"sk-estimator-id-1\" class=\"sk-toggleable__label sk-toggleable__label-arrow\">LinearRegression</label><div class=\"sk-toggleable__content\"><pre>LinearRegression()</pre></div></div></div></div></div>"
      ],
      "text/plain": [
       "LinearRegression()"
      ]
     },
     "execution_count": 5,
     "metadata": {},
     "output_type": "execute_result"
    }
   ],
   "source": [
    "model = LinearRegression()\n",
    "X = pd.DataFrame(x)\n",
    "Y = pd.DataFrame(y)\n",
    "model.fit(X,Y)"
   ]
  },
  {
   "cell_type": "code",
   "execution_count": 6,
   "metadata": {},
   "outputs": [
    {
     "data": {
      "text/plain": [
       "array([[0.13673557]])"
      ]
     },
     "execution_count": 6,
     "metadata": {},
     "output_type": "execute_result"
    }
   ],
   "source": [
    "model.coef_"
   ]
  },
  {
   "cell_type": "code",
   "execution_count": 7,
   "metadata": {},
   "outputs": [
    {
     "data": {
      "text/plain": [
       "(0.0, 100.0)"
      ]
     },
     "execution_count": 7,
     "metadata": {},
     "output_type": "execute_result"
    },
    {
     "data": {
      "image/png": "[encoded data removed]",
      "text/plain": [
       "<Figure size 720x432 with 1 Axes>"
      ]
     },
     "metadata": {
      "needs_background": "light"
     },
     "output_type": "display_data"
    }
   ],
   "source": [
    "plt.figure(figsize=(10,6))\n",
    "plt.scatter(x, y, alpha=1)\n",
    "\n",
    "plt.plot(x, model.predict(X), color='red')\n",
    "\n",
    "plt.xlabel('Объем трафика')\n",
    "plt.ylabel('Загруженность сети')\n",
    "plt.ylim(0, 100)"
   ]
  },
  {
   "cell_type": "code",
   "execution_count": 8,
   "metadata": {},
   "outputs": [
    {
     "name": "stdout",
     "output_type": "stream",
     "text": [
      "y = 0.1367x + -6.0522\n"
     ]
    }
   ],
   "source": [
    "print(\"y = \" + str(\"%.4f\" % model.coef_[0][0]) + \"x + \" + str(\"%.4f\" % model.intercept_)) # наша линейная функция"
   ]
  },
  {
   "cell_type": "code",
   "execution_count": 9,
   "metadata": {},
   "outputs": [
    {
     "data": {
      "text/plain": [
       "array([[20.0000004]])"
      ]
     },
     "execution_count": 9,
     "metadata": {},
     "output_type": "execute_result"
    }
   ],
   "source": [
    "model.predict(np.array([[190.52974]])) # можно запредиктить абсолютно любое x"
   ]
  },
  {
   "cell_type": "code",
   "execution_count": 10,
   "metadata": {},
   "outputs": [
    {
     "data": {
      "text/plain": [
       "0.3773753062748556"
      ]
     },
     "execution_count": 10,
     "metadata": {},
     "output_type": "execute_result"
    }
   ],
   "source": [
    "model.score(X, Y)"
   ]
  },
  {
   "cell_type": "markdown",
   "metadata": {},
   "source": [
    "Далее своя линейная регрессия"
   ]
  },
  {
   "cell_type": "code",
   "execution_count": 11,
   "metadata": {},
   "outputs": [],
   "source": [
    "#y=[0.0,0.6122448979591837,1.2244897959183674,1.836734693877551,2.4489795918367347,3.0612244897959187,3.673469387755102,4.285714285714286,4.8979591836734695,5.510204081632653,6.122448979591837,6.73469387755102,7.346938775510204,7.959183673469388,8.571428571428571,9.183673469387756,9.795918367346939,10.408163265306122,11.020408163265307,11.63265306122449,12.244897959183675,12.857142857142858,13.46938775510204,14.081632653061225,14.693877551020408,15.306122448979592,15.918367346938776,16.53061224489796,17.142857142857142,17.755102040816325,18.367346938775512,18.979591836734695,19.591836734693878,20.20408163265306,20.816326530612244,21.42857142857143,22.040816326530614,22.653061224489797,23.26530612244898,23.877551020408163,24.48979591836735,25.102040816326532,25.714285714285715,26.3265306122449,26.93877551020408,27.551020408163264,28.16326530612245,28.775510204081634,29.387755102040817,30.0]\n",
    "#x=[103.09532681036755,60.64960432687138,82.79483746232057,62.647110840536286,124.05925619404826,96.43828219023422,163.4763969980349,158.19304994371362,154.0288700910815,119.320495883008,130.75920827520008,155.8336870549172,172.12476348195835,142.97011987387154,152.8734390643684,116.54061936340476,121.22974679291919,138.24746425964807,109.7518957346999,177.3790353912938,127.14932042111192,110.0352943908648,196.1654513274892,146.92854909407683,197.06721054750625,149.29111065595092,171.9478101455099,198.4350773302673,119.34142026876306,204.6535999568399,160.1437312015482,203.88942920668063,152.89914630499246,216.73415864330298,142.58316573321767,220.10106549068115,187.0941705779788,139.56514227070937,126.41483140859235,201.84727785750437,162.4312786891109,183.83963018644098,161.8534384420994,138.51260296265937,190.2517740261142,179.13481699510126,223.59552589940637,234.7503986235846,153.7276977311854,155.34302733656108]\n"
   ]
  },
  {
   "cell_type": "code",
   "execution_count": 69,
   "metadata": {},
   "outputs": [
    {
     "name": "stdout",
     "output_type": "stream",
     "text": [
      "50 50\n"
     ]
    }
   ],
   "source": [
    "m = 0\n",
    "c = 0\n",
    "\n",
    "Y=[0.0,0.6122448979591837,1.2244897959183674,1.836734693877551,2.4489795918367347,3.0612244897959187,3.673469387755102,4.285714285714286,4.8979591836734695,5.510204081632653,6.122448979591837,6.73469387755102,7.346938775510204,7.959183673469388,8.571428571428571,9.183673469387756,9.795918367346939,10.408163265306122,11.020408163265307,11.63265306122449,12.244897959183675,12.857142857142858,13.46938775510204,14.081632653061225,14.693877551020408,15.306122448979592,15.918367346938776,16.53061224489796,17.142857142857142,17.755102040816325,18.367346938775512,18.979591836734695,19.591836734693878,20.20408163265306,20.816326530612244,21.42857142857143,22.040816326530614,22.653061224489797,23.26530612244898,23.877551020408163,24.48979591836735,25.102040816326532,25.714285714285715,26.3265306122449,26.93877551020408,27.551020408163264,28.16326530612245,28.775510204081634,29.387755102040817,30.0]\n",
    "X=[103.09532681036755,60.64960432687138,82.79483746232057,62.647110840536286,124.05925619404826,96.43828219023422,163.4763969980349,158.19304994371362,154.0288700910815,119.320495883008,130.75920827520008,155.8336870549172,172.12476348195835,142.97011987387154,152.8734390643684,116.54061936340476,121.22974679291919,138.24746425964807,109.7518957346999,177.3790353912938,127.14932042111192,110.0352943908648,196.1654513274892,146.92854909407683,197.06721054750625,149.29111065595092,171.9478101455099,198.4350773302673,119.34142026876306,204.6535999568399,160.1437312015482,203.88942920668063,152.89914630499246,216.73415864330298,142.58316573321767,220.10106549068115,187.0941705779788,139.56514227070937,126.41483140859235,201.84727785750437,162.4312786891109,183.83963018644098,161.8534384420994,138.51260296265937,190.2517740261142,179.13481699510126,223.59552589940637,234.7503986235846,153.7276977311854,155.34302733656108]\n",
    "\n",
    "print (len(X), len(Y))\n",
    "\n",
    "X_train = X[1:40]\n",
    "Y_train = Y[1:40]\n",
    "\n",
    "X_test = X[40:51]\n",
    "Y_test = Y[40:51]\n",
    "Xpd_test = pd.DataFrame(X_test)\n",
    "Ypd_test = pd.DataFrame(Y_test)\n"
   ]
  },
  {
   "cell_type": "code",
   "execution_count": 73,
   "metadata": {},
   "outputs": [
    {
     "name": "stdout",
     "output_type": "stream",
     "text": [
      "            X         Y\n",
      "0   60.649604  0.612245\n",
      "1   82.794837  1.224490\n",
      "2   62.647111  1.836735\n",
      "3  124.059256  2.448980\n",
      "4   96.438282  3.061224\n",
      "0.0837995288447491 -0.017523045130245347\n",
      "[[0.10536305]] [-3.45583096]\n"
     ]
    },
    {
     "name": "stderr",
     "output_type": "stream",
     "text": [
      "C:\\Users\\StepW\\AppData\\Local\\Packages\\PythonSoftwareFoundation.Python.3.10_qbz5n2kfra8p0\\LocalCache\\local-packages\\Python310\\site-packages\\sklearn\\base.py:450: UserWarning: X does not have valid feature names, but LinearRegression was fitted with feature names\n",
      "  warnings.warn(\n"
     ]
    },
    {
     "data": {
      "text/plain": [
       "(0.0, 100.0)"
      ]
     },
     "execution_count": 73,
     "metadata": {},
     "output_type": "execute_result"
    },
    {
     "data": {
      "image/png": "[encoded data removed]",
      "text/plain": [
       "<Figure size 720x432 with 1 Axes>"
      ]
     },
     "metadata": {
      "needs_background": "light"
     },
     "output_type": "display_data"
    }
   ],
   "source": [
    "\n",
    "data = pd.DataFrame(list(zip(X_train, Y_train)), columns =['X', 'Y']) \n",
    "\n",
    "weights = []\n",
    "\n",
    "print(data.head())\n",
    "\n",
    "X_train = data.iloc[:, 0]\n",
    "Y = data.iloc[:, 1]\n",
    "# The learning Rate\n",
    "L = 0.00001\n",
    "# The number of iterations to perform gradient descent\n",
    "epochs = 1000\n",
    "# Number of elements in X\n",
    "n = float(len(X_train))  \n",
    "\n",
    "# Performing Gradient Descent \n",
    "for i in range(epochs):\n",
    "    Y_pred = m * X_train + c  # The current predicted value of Y\n",
    "    D_m = (-2 / n) * sum(X_train * (Y_train - Y_pred))  # Derivative wrt m\n",
    "    D_c = (-2 / n) * sum(Y_train - Y_pred)  # Derivative wrt c    \n",
    "    m = m - L * D_m  # Update m\n",
    "    c = c - L * D_c  # Update c\n",
    "    weights.append(m)\n",
    "W = pd.DataFrame(weights)\n",
    "Xpd_train = pd.DataFrame(X_train)\n",
    "Ypd_train = pd.DataFrame(Y_train)\n",
    "Ypred = []\n",
    "\n",
    "#plt.plot(W, )\n",
    "print(m, c)\n",
    "\n",
    "\n",
    "def predict(x):\n",
    "    return m * x + c\n",
    "for el in X_test:\n",
    "    Ypred.append(el*m)\n",
    "Yp = pd.DataFrame(Ypred)\n",
    "\n",
    "model.fit(Xpd_train, Ypd_train)\n",
    "print(model.coef_, model.intercept_)\n",
    "\n",
    "plt.figure(figsize=(10,6))\n",
    "plt.xlabel('Объем трафика')\n",
    "plt.ylabel('Загруженность сети')\n",
    "plt.scatter(X_train, Y_train, color = \"pink\")\n",
    "plt.scatter(X_test, Y_test, color = \"black\")\n",
    "plt.plot(X_test, Yp, color =\"red\")\n",
    "plt.plot(X_test, model.predict(Xpd_test), color = \"purple\")\n",
    "plt.ylim(0, 100)"
   ]
  },
  {
   "cell_type": "code",
   "execution_count": null,
   "metadata": {},
   "outputs": [],
   "source": []
  },
  {
   "cell_type": "code",
   "execution_count": null,
   "metadata": {},
   "outputs": [],
   "source": []
  },
  {
   "cell_type": "code",
   "execution_count": null,
   "metadata": {},
   "outputs": [],
   "source": [
    "\n"
   ]
  },
  {
   "cell_type": "code",
   "execution_count": null,
   "metadata": {},
   "outputs": [],
   "source": []
  },
  {
   "cell_type": "code",
   "execution_count": null,
   "metadata": {},
   "outputs": [],
   "source": []
  },
  {
   "cell_type": "code",
   "execution_count": null,
   "metadata": {},
   "outputs": [],
   "source": []
  }
 ],
 "metadata": {
  "kernelspec": {
   "display_name": "Python 3.10.5 64-bit (windows store)",
   "language": "python",
   "name": "python3"
  },
  "language_info": {
   "codemirror_mode": {
    "name": "ipython",
    "version": 3
   },
   "file_extension": ".py",
   "mimetype": "text/x-python",
   "name": "python",
   "nbconvert_exporter": "python",
   "pygments_lexer": "ipython3",
   "version": "3.10.7"
  },
  "orig_nbformat": 4,
  "vscode": {
   "interpreter": {
    "hash": "c0268c06082bbe3cc38d55639c546f63482eb23e2c38516956ccd1f3a27bf008"
   }
  }
 },
 "nbformat": 4,
 "nbformat_minor": 2
}
