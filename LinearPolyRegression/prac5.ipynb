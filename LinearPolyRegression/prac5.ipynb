{
 "cells": [
  {
   "cell_type": "code",
   "execution_count": 2,
   "metadata": {},
   "outputs": [
    {
     "ename": "ModuleNotFoundError",
     "evalue": "No module named '_tkinter'",
     "output_type": "error",
     "traceback": [
      "\u001b[0;31m---------------------------------------------------------------------------\u001b[0m",
      "\u001b[0;31mModuleNotFoundError\u001b[0m                       Traceback (most recent call last)",
      "\u001b[1;32m/Users/axidex/Documents/github/AI-labs/LinearPolyRegression/prac5.ipynb Cell 1\u001b[0m in \u001b[0;36m<cell line: 2>\u001b[0;34m()\u001b[0m\n\u001b[1;32m      <a href='vscode-notebook-cell:/Users/axidex/Documents/github/AI-labs/LinearPolyRegression/prac5.ipynb#W0sZmlsZQ%3D%3D?line=0'>1</a>\u001b[0m \u001b[39mfrom\u001b[39;00m \u001b[39mtokenize\u001b[39;00m \u001b[39mimport\u001b[39;00m PlainToken\n\u001b[0;32m----> <a href='vscode-notebook-cell:/Users/axidex/Documents/github/AI-labs/LinearPolyRegression/prac5.ipynb#W0sZmlsZQ%3D%3D?line=1'>2</a>\u001b[0m \u001b[39mfrom\u001b[39;00m \u001b[39mturtle\u001b[39;00m \u001b[39mimport\u001b[39;00m color\n\u001b[1;32m      <a href='vscode-notebook-cell:/Users/axidex/Documents/github/AI-labs/LinearPolyRegression/prac5.ipynb#W0sZmlsZQ%3D%3D?line=2'>3</a>\u001b[0m \u001b[39mimport\u001b[39;00m \u001b[39mnumpy\u001b[39;00m \u001b[39mas\u001b[39;00m \u001b[39mnp\u001b[39;00m\n\u001b[1;32m      <a href='vscode-notebook-cell:/Users/axidex/Documents/github/AI-labs/LinearPolyRegression/prac5.ipynb#W0sZmlsZQ%3D%3D?line=3'>4</a>\u001b[0m \u001b[39mimport\u001b[39;00m \u001b[39mrandom\u001b[39;00m\n",
      "File \u001b[0;32m/opt/homebrew/Cellar/python@3.10/3.10.7/Frameworks/Python.framework/Versions/3.10/lib/python3.10/turtle.py:107\u001b[0m, in \u001b[0;36m<module>\u001b[0;34m\u001b[0m\n\u001b[1;32m    103\u001b[0m _ver \u001b[39m=\u001b[39m \u001b[39m\"\u001b[39m\u001b[39mturtle 1.1b- - for Python 3.1   -  4. 5. 2009\u001b[39m\u001b[39m\"\u001b[39m\n\u001b[1;32m    105\u001b[0m \u001b[39m# print(_ver)\u001b[39;00m\n\u001b[0;32m--> 107\u001b[0m \u001b[39mimport\u001b[39;00m \u001b[39mtkinter\u001b[39;00m \u001b[39mas\u001b[39;00m \u001b[39mTK\u001b[39;00m\n\u001b[1;32m    108\u001b[0m \u001b[39mimport\u001b[39;00m \u001b[39mtypes\u001b[39;00m\n\u001b[1;32m    109\u001b[0m \u001b[39mimport\u001b[39;00m \u001b[39mmath\u001b[39;00m\n",
      "File \u001b[0;32m/opt/homebrew/Cellar/python@3.10/3.10.7/Frameworks/Python.framework/Versions/3.10/lib/python3.10/tkinter/__init__.py:37\u001b[0m, in \u001b[0;36m<module>\u001b[0;34m\u001b[0m\n\u001b[1;32m     34\u001b[0m \u001b[39mimport\u001b[39;00m \u001b[39msys\u001b[39;00m\n\u001b[1;32m     35\u001b[0m \u001b[39mimport\u001b[39;00m \u001b[39mtypes\u001b[39;00m\n\u001b[0;32m---> 37\u001b[0m \u001b[39mimport\u001b[39;00m \u001b[39m_tkinter\u001b[39;00m \u001b[39m# If this fails your Python may not be configured for Tk\u001b[39;00m\n\u001b[1;32m     38\u001b[0m TclError \u001b[39m=\u001b[39m _tkinter\u001b[39m.\u001b[39mTclError\n\u001b[1;32m     39\u001b[0m \u001b[39mfrom\u001b[39;00m \u001b[39mtkinter\u001b[39;00m\u001b[39m.\u001b[39;00m\u001b[39mconstants\u001b[39;00m \u001b[39mimport\u001b[39;00m \u001b[39m*\u001b[39m\n",
      "\u001b[0;31mModuleNotFoundError\u001b[0m: No module named '_tkinter'"
     ]
    }
   ],
   "source": [
    "from tokenize import PlainToken\n",
    "from turtle import color\n",
    "import numpy as np\n",
    "import random\n",
    "import matplotlib.pyplot as plt\n",
    "from sklearn.model_selection import train_test_split\n",
    "\n",
    "x=[0.0,0.30303030303030304,0.6060606060606061,0.9090909090909092,1.2121212121212122,1.5151515151515151,1.8181818181818183,2.121212121212121,2.4242424242424243,2.7272727272727275,3.0303030303030303,3.3333333333333335,3.6363636363636367,3.9393939393939394,4.242424242424242,4.545454545454546,4.848484848484849,5.151515151515151,5.454545454545455,5.757575757575758,6.0606060606060606,6.363636363636364,6.666666666666667,6.96969696969697,7.272727272727273,7.575757575757576,7.878787878787879,8.181818181818182,8.484848484848484,8.787878787878789,9.090909090909092,9.393939393939394,9.696969696969697,10.0,10.303030303030303,10.606060606060606,10.90909090909091,11.212121212121213,11.515151515151516,11.818181818181818,12.121212121212121,12.424242424242424,12.727272727272728,13.030303030303031,13.333333333333334,13.636363636363637,13.93939393939394,14.242424242424242,14.545454545454547,14.84848484848485,15.151515151515152,15.454545454545455,15.757575757575758,16.060606060606062,16.363636363636363,16.666666666666668,16.96969696969697,17.272727272727273,17.575757575757578,17.87878787878788,18.181818181818183,18.484848484848484,18.78787878787879,19.09090909090909,19.393939393939394,19.6969696969697,20.0,20.303030303030305,20.606060606060606,20.90909090909091,21.21212121212121,21.515151515151516,21.81818181818182,22.12121212121212,22.424242424242426,22.727272727272727,23.03030303030303,23.333333333333336,23.636363636363637,23.93939393939394,24.242424242424242,24.545454545454547,24.848484848484848,25.151515151515152,25.454545454545457,25.757575757575758,26.060606060606062,26.363636363636363,26.666666666666668,26.96969696969697,27.272727272727273,27.575757575757578,27.87878787878788,28.181818181818183,28.484848484848484,28.78787878787879,29.090909090909093,29.393939393939394,29.6969696969697,30.0]\n",
    "y=[107.17891751982046,93.26408363662338,91.08862757367106,180.8561635962477,201.7366751917977,119.31123301139587,110.15873617600263,85.2868548165694,113.27484172210508,151.42837538909262,136.85918898812952,107.06966547675567,196.3718826042208,93.67901453437852,209.47810513677206,96.07591695310593,103.41605549520702,103.45484435507186,140.74483442393745,191.47530915507852,115.23881352713805,215.45496124480042,187.55266118448537,152.47303639652858,142.09875170724067,219.90612570521827,93.23124139913111,165.47110992325435,237.6311588638206,185.49337664292983,96.57722037599925,214.56443524215337,172.17740520123465,119.9340632936244,151.4514290872419,246.13854770784366,137.1871775406439,228.88420640649667,150.73664151783748,223.10609678131428,146.16272658014748,168.8091957055989,139.32432550722152,138.44328789508674,212.85398389013767,143.93587589093514,213.42833295419922,217.22945282930993,229.58553015771074,208.04919830685873,218.237640079826,203.61690629527095,264.5771449356479,266.56093500449873,280.7725147456776,227.77661886178936,234.05562744976802,218.4053340257764,233.93746631595843,305.8734161562795,184.42936840339914,249.65737854186526,292.1604684594648,267.7582205225242,194.80605063867222,271.3074066713623,293.33383806018117,248.94779492039876,213.42101072146303,269.178133146772,262.32184155846227,352.1004711229692,342.9053673375964,278.2028690207454,338.94459789384183,299.40818880552575,236.0131680518689,288.9141398367215,245.40331255572818,285.87367455641646,335.27018539472664,347.1991360548786,303.0929631345275,420.52091533680243,324.111113384735,384.43464216578644,364.14086775517205,333.6181597660758,410.3703253435683,455.50249249040974,378.26950958992796,344.7831475435914,461.44033140447266,437.9061716913492,486.13568402020803,362.2768069028956,445.0292488554805,422.88982140404045,421.49282021666676,395.3578098424966]\n",
    "\n",
    "J_train=[]\n",
    "J_test=[]\n",
    "x_train, x_test, y_train, y_test = train_test_split(x, y, test_size=0.5, random_state=19)\n",
    "\n",
    "\n",
    "k_choices = [1, 2, 3, 5, 8, 10, 15, 20, 30]\n",
    "k_to_accuracy = {}\n",
    "k_to_accuracy_test = {}\n",
    "for k in k_choices:\n",
    "    summary = 0\n",
    "    summary_test = 0\n",
    "    for i in range(k):\n",
    "        theta = np.polyfit(x_train,y_train,i)\n",
    "        y_pred_train=np.polyval(theta,x_train)\n",
    "        J_train.append(sum((y_train-y_pred_train)**2))\n",
    "        summary += sum((y_train-y_pred_train)**2)\n",
    "        \n",
    "        y_pred_test=np.polyval(theta,x_test)\n",
    "        J_test.append(sum((y_test-y_pred_test)**2))\n",
    "        summary_test += sum((y_train-y_pred_train)**2)\n",
    "\n",
    "    k_to_accuracy[k] = summary/k\n",
    "    k_to_accuracy_test[k] = summary_test/k\n",
    "\n",
    "print(k_to_accuracy_test)\n",
    "print(min(k_to_accuracy_test, key=k_to_accuracy_test.get))\n",
    "print(min(k_to_accuracy,  key=k_to_accuracy.get))\n",
    "plt.scatter(x_train, y_pred_train)\n",
    "plt.scatter(x_test, y_pred_test, color=\"black\")\n",
    "plt.scatter(x_train,y_train,color=\"red\")\n",
    "plt.scatter(x_test,y_test,color=\"purple\")\n",
    "\n",
    "\n",
    "plt.show()\n"
   ]
  },
  {
   "cell_type": "code",
   "execution_count": null,
   "metadata": {},
   "outputs": [],
   "source": []
  }
 ],
 "metadata": {
  "kernelspec": {
   "display_name": "Python 3.10.7 64-bit",
   "language": "python",
   "name": "python3"
  },
  "language_info": {
   "codemirror_mode": {
    "name": "ipython",
    "version": 3
   },
   "file_extension": ".py",
   "mimetype": "text/x-python",
   "name": "python",
   "nbconvert_exporter": "python",
   "pygments_lexer": "ipython3",
   "version": "3.10.7"
  },
  "orig_nbformat": 4,
  "vscode": {
   "interpreter": {
    "hash": "b0fa6594d8f4cbf19f97940f81e996739fb7646882a419484c72d19e05852a7e"
   }
  }
 },
 "nbformat": 4,
 "nbformat_minor": 2
}
